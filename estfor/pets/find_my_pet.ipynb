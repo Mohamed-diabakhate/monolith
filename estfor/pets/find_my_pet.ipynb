{
 "cells": [
  {
   "cell_type": "code",
   "execution_count": 67,
   "id": "d599c8d0",
   "metadata": {},
   "outputs": [
    {
     "name": "stderr",
     "output_type": "stream",
     "text": [
      "  % Total    % Received % Xferd  Average Speed   Time    Time     Time  Current\n",
      "                                 Dload  Upload   Total   Spent    Left  Speed\n"
     ]
    },
    {
     "name": "stderr",
     "output_type": "stream",
     "text": [
      "100 2367k  100 2367k    0     0  1679k      0  0:00:01  0:00:01 --:--:-- 1678k\n"
     ]
    }
   ],
   "source": [
    "%%bash \n",
    "curl -X 'GET' \\\n",
    "  'https://api.paintswap.finance/sales/?collections=0xe97f8165d9d8d6835abdf7a814ba55dd09b7b1ed&numToFetch=1000' \\\n",
    "  -H 'accept: application/json' > sales.json"
   ]
  },
  {
   "cell_type": "code",
   "execution_count": 70,
   "id": "c0ca1d30",
   "metadata": {},
   "outputs": [],
   "source": [
    "import json\n",
    "\n",
    "\n",
    "with open('sales.json', 'r') as f:\n",
    "    data = json.load(f)\n",
    "data = data['sales']\n"
   ]
  },
  {
   "cell_type": "code",
   "execution_count": 71,
   "id": "258ffb4f",
   "metadata": {},
   "outputs": [
    {
     "data": {
      "text/plain": [
       "{'address': '0xe97f8165d9d8d6835abdf7a814ba55dd09b7b1ed',\n",
       " 'tokenId': '20975',\n",
       " 'price': '3000000000000000000',\n",
       " 'image': 'https://media-nft.paintswap.finance/0xe97f8165d9d8d6835abdf7a814ba55dd09b7b1ed_904_146.jpg',\n",
       " 'name': 'Pet 20975 (T1)',\n",
       " 'id': '0xe97f8165d9d8d6835abdf7a814ba55dd09b7b1ed_20975_146',\n",
       " 'Skin': 'Default',\n",
       " 'Tier': '1',\n",
       " 'Enhancement type': 'MeleeAndDefence',\n",
       " 'Skill bonus #1': 'Melee',\n",
       " 'Fixed increase #1': '4',\n",
       " 'Fixed max #1': '4',\n",
       " 'Percent increase #1': '0',\n",
       " 'Percent max #1': '1',\n",
       " 'Skill bonus #2': 'Defence',\n",
       " 'Fixed increase #2': '1',\n",
       " 'Fixed max #2': '2',\n",
       " 'Percent increase #2': '5',\n",
       " 'Percent max #2': '5',\n",
       " 'Fixed Star': 'false',\n",
       " 'Percent Star': 'false',\n",
       " 'Attributes Count': '15',\n",
       " 'url_marketplace': 'https://paintswap.io/sonic/114078'}"
      ]
     },
     "execution_count": 71,
     "metadata": {},
     "output_type": "execute_result"
    }
   ],
   "source": [
    "def listing_document(listing):\n",
    "    id_ = listing['id']\n",
    "    listing = listing['nft']\n",
    "    k = ['id', 'address', 'tokenId', 'image', 'price','name']\n",
    "    meta = {e:listing[e] for e in listing if e in k}\n",
    "    attributes = {e['trait_type']:e['value'] for e in listing['attributes']}\n",
    "    meta.update(attributes)\n",
    "    meta['url_marketplace'] = f\"https://paintswap.io/sonic/{id_}\"\n",
    "    return meta\n",
    "\n",
    "listing_document(data[0])\n"
   ]
  },
  {
   "cell_type": "code",
   "execution_count": 76,
   "id": "b600b48e",
   "metadata": {},
   "outputs": [
    {
     "name": "stdout",
     "output_type": "stream",
     "text": [
      "{'Magic', 'RangedAndDefence', 'Melee', 'Ranged', 'Health', 'Defence', 'MeleeAndDefence', 'MagicAndDefence'}\n"
     ]
    },
    {
     "data": {
      "text/plain": [
       "11"
      ]
     },
     "execution_count": 76,
     "metadata": {},
     "output_type": "execute_result"
    }
   ],
   "source": [
    "print(set(e['Enhancement type'] for e in [listing_document(k) for k in data]))\n",
    "ranged = list(filter(lambda x: x['Enhancement type'] == 'Ranged' and x['Tier'] in ['4'],[listing_document(l) for l in data]))\n",
    "len(ranged)"
   ]
  },
  {
   "cell_type": "code",
   "execution_count": 77,
   "id": "09ce1fe3",
   "metadata": {},
   "outputs": [
    {
     "data": {
      "text/plain": [
       "[['7', '18', 'https://paintswap.io/sonic/114114', 4.5],\n",
       " ['10', '12', 'https://paintswap.io/sonic/114678', 38.2],\n",
       " ['11', '21', 'https://paintswap.io/sonic/114113', 4.5],\n",
       " ['13', '10', 'https://paintswap.io/sonic/114673', 37.0],\n",
       " ['15', '9', 'https://paintswap.io/sonic/114670', 37.0],\n",
       " ['15', '14', 'https://paintswap.io/sonic/114674', 42.7],\n",
       " ['15', '18', 'https://paintswap.io/sonic/114675', 45.2],\n",
       " ['16', '17', 'https://paintswap.io/sonic/114630', 44.4],\n",
       " ['16', '13', 'https://paintswap.io/sonic/114637', 43.1],\n",
       " ['22', '8', 'https://paintswap.io/sonic/115017', 22.0],\n",
       " ['35', '12', 'https://paintswap.io/sonic/112477', 149.0]]"
      ]
     },
     "execution_count": 77,
     "metadata": {},
     "output_type": "execute_result"
    }
   ],
   "source": [
    "[ [e['Fixed increase #1'],e['Percent increase #1'],e['url_marketplace'], int(e['price'])/1000000000000000000] for e in sorted(ranged, key=lambda x: int(x['Fixed increase #1']))]"
   ]
  },
  {
   "cell_type": "code",
   "execution_count": null,
   "id": "3f1c3eff",
   "metadata": {},
   "outputs": [
    {
     "data": {
      "text/plain": [
       "{'address': '0xe97f8165d9d8d6835abdf7a814ba55dd09b7b1ed',\n",
       " 'tokenId': '20732',\n",
       " 'price': '4500000000000000000',\n",
       " 'image': 'https://media-nft.paintswap.finance/0xe97f8165d9d8d6835abdf7a814ba55dd09b7b1ed_327_146.jpg',\n",
       " 'name': 'Pet 20732 (T4)',\n",
       " 'id': '0xe97f8165d9d8d6835abdf7a814ba55dd09b7b1ed_20732_146',\n",
       " 'Skin': 'Default',\n",
       " 'Tier': '4',\n",
       " 'Enhancement type': 'Ranged',\n",
       " 'Skill bonus #1': 'Ranged',\n",
       " 'Fixed increase #1': '11',\n",
       " 'Fixed max #1': '20',\n",
       " 'Percent increase #1': '21',\n",
       " 'Percent max #1': '25',\n",
       " 'Skill bonus #2': 'None',\n",
       " 'Fixed increase #2': '0',\n",
       " 'Fixed max #2': '0',\n",
       " 'Percent increase #2': '0',\n",
       " 'Percent max #2': '0',\n",
       " 'Fixed Star': 'false',\n",
       " 'Percent Star': 'false',\n",
       " 'Attributes Count': '15',\n",
       " 'url_marketplace': 'https://paintswap.io/sonic/114113'}"
      ]
     },
     "execution_count": 78,
     "metadata": {},
     "output_type": "execute_result"
    }
   ],
   "source": [
    "ranged[0]how "
   ]
  },
  {
   "cell_type": "code",
   "execution_count": null,
   "id": "64908b1a",
   "metadata": {},
   "outputs": [],
   "source": []
  }
 ],
 "metadata": {
  "kernelspec": {
   "display_name": "base",
   "language": "python",
   "name": "python3"
  },
  "language_info": {
   "codemirror_mode": {
    "name": "ipython",
    "version": 3
   },
   "file_extension": ".py",
   "mimetype": "text/x-python",
   "name": "python",
   "nbconvert_exporter": "python",
   "pygments_lexer": "ipython3",
   "version": "3.11.9"
  }
 },
 "nbformat": 4,
 "nbformat_minor": 5
}
